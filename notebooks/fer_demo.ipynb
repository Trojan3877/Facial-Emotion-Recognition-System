# Cell 1: Import Required Libraries
import cv2
import numpy as np
import matplotlib.pyplot as plt
from keras.models import load_model
from keras.preprocessing.image import img_to_array
from sklearn.metrics import classification_report, confusion_matrix
import seaborn as sns

# Cell 2: Load Pretrained Model
model = load_model('../model/emotion_model.h5')
emotion_labels = ['Angry', 'Disgust', 'Fear', 'Happy', 'Sad', 'Surprise', 'Neutral']

# Cell 3: Load and Preprocess Image
def load_image(path):
    img = cv2.imread(path)
    gray = cv2.cvtColor(img, cv2.COLOR_BGR2GRAY)
    face = cv2.resize(gray, (48, 48))
    face = face.astype("float") / 255.0
    face = img_to_array(face)
    face = np.expand_dims(face, axis=0)
    return img, face

img_path = '../images/sample_faces.png'
raw_img, face = load_image(img_path)

# Cell 4: Predict Emotion
preds = model.predict(face)[0]
emotion_idx = np.argmax(preds)
predicted_emotion = emotion_labels[emotion_idx]

print(f"Predicted Emotion: {predicted_emotion}")

# Cell 5: Visualize Prediction
plt.imshow(cv2.cvtColor(raw_img, cv2.COLOR_BGR2RGB))
plt.title(f"Prediction: {predicted_emotion}")
plt.axis('off')
plt.show()

# Cell 6: Optional Evaluation (if you have test labels/preds)
# y_true = [...]  # true labels
# y_pred = [...]  # predicted labels from model
# print(classification_report(y_true, y_pred, target_names=emotion_labels))
# sns.heatmap(confusion_matrix(y_true, y_pred), annot=True, fmt="d", cmap="Blues")



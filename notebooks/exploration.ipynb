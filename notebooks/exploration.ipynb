# notebooks/exploration.ipynb

# --- Notebook Cell 1 ---
import pandas as pd
import matplotlib.pyplot as plt
import numpy as np
import seaborn as sns

# Load CSV
df = pd.read_csv("../data/raw/fer2013.csv")
df.head()

# --- Cell 2: Class Distribution ---
emotion_labels = ['Angry', 'Disgust', 'Fear', 'Happy', 'Sad', 'Surprise', 'Neutral']
df['emotion'] = df['emotion'].astype(int)
plt.figure(figsize=(8,5))
sns.countplot(x='emotion', data=df)
plt.title("Emotion Class Distribution")
plt.xticks(ticks=range(7), labels=emotion_labels)
plt.xlabel("Emotion")
plt.ylabel("Count")
plt.tight_layout()
plt.show()

# --- Cell 3: Show Example Faces ---
def show_samples(df, emotion_label, n=5):
    samples = df[df['emotion'] == emotion_label].sample(n)
    plt.figure(figsize=(15,3))
    for i, row in enumerate(samples.iterrows()):
        img = np.fromstring(row[1]['pixels'], sep=' ').reshape(48, 48)
        plt.subplot(1, n, i+1)
        plt.imshow(img, cmap='gray')
        plt.title(emotion_labels[emotion_label])
        plt.axis('off')
    plt.tight_layout()
    plt.show()

# Show 5 samples per emotion
for i in range(7):
    show_samples(df, i)
